{
 "cells": [
  {
   "cell_type": "code",
   "execution_count": 13,
   "id": "dc3ba90f",
   "metadata": {},
   "outputs": [],
   "source": [
    "import pandas as pd\n",
    "import numpy as np\n",
    "import matplotlib.pyplot as plt\n",
    "import seaborn as sns\n",
    "df = pd.read_csv('energydata_complete.csv')\n",
    "df.drop('date',axis=1, inplace=True)"
   ]
  },
  {
   "cell_type": "code",
   "execution_count": 14,
   "id": "132de58f",
   "metadata": {},
   "outputs": [
    {
     "data": {
      "text/html": [
       "<div>\n",
       "<style scoped>\n",
       "    .dataframe tbody tr th:only-of-type {\n",
       "        vertical-align: middle;\n",
       "    }\n",
       "\n",
       "    .dataframe tbody tr th {\n",
       "        vertical-align: top;\n",
       "    }\n",
       "\n",
       "    .dataframe thead th {\n",
       "        text-align: right;\n",
       "    }\n",
       "</style>\n",
       "<table border=\"1\" class=\"dataframe\">\n",
       "  <thead>\n",
       "    <tr style=\"text-align: right;\">\n",
       "      <th></th>\n",
       "      <th>Appliances</th>\n",
       "      <th>lights</th>\n",
       "      <th>kitchenTemp(℃)</th>\n",
       "      <th>kitchen_Humidity(%)</th>\n",
       "      <th>livingroomTemp(℃)</th>\n",
       "      <th>livingroom_Humidity(%)</th>\n",
       "      <th>laundryTemp(℃)</th>\n",
       "      <th>laundry_Humidity(%)</th>\n",
       "      <th>officeTemp(℃)</th>\n",
       "      <th>office_Humidity(%)</th>\n",
       "      <th>...</th>\n",
       "      <th>parentRoomTemp(℃)</th>\n",
       "      <th>parentRoom_Humidity(%)</th>\n",
       "      <th>outTemp(℃)</th>\n",
       "      <th>Press_mm_hg</th>\n",
       "      <th>outHum(%)</th>\n",
       "      <th>windspeed(m/s)</th>\n",
       "      <th>visibility(km)</th>\n",
       "      <th>tdewpoint(Â℃)</th>\n",
       "      <th>randomVariable(non-dimensional)</th>\n",
       "      <th>randomVariable(non-dimensional)</th>\n",
       "    </tr>\n",
       "  </thead>\n",
       "  <tbody>\n",
       "    <tr>\n",
       "      <th>0</th>\n",
       "      <td>60</td>\n",
       "      <td>30</td>\n",
       "      <td>19.89</td>\n",
       "      <td>47.596667</td>\n",
       "      <td>19.2</td>\n",
       "      <td>44.790000</td>\n",
       "      <td>19.79</td>\n",
       "      <td>44.730000</td>\n",
       "      <td>19.000000</td>\n",
       "      <td>45.566667</td>\n",
       "      <td>...</td>\n",
       "      <td>17.033333</td>\n",
       "      <td>45.53</td>\n",
       "      <td>6.600000</td>\n",
       "      <td>733.5</td>\n",
       "      <td>92.0</td>\n",
       "      <td>7.000000</td>\n",
       "      <td>63.000000</td>\n",
       "      <td>5.3</td>\n",
       "      <td>13.275433</td>\n",
       "      <td>13.275433</td>\n",
       "    </tr>\n",
       "    <tr>\n",
       "      <th>1</th>\n",
       "      <td>60</td>\n",
       "      <td>30</td>\n",
       "      <td>19.89</td>\n",
       "      <td>46.693333</td>\n",
       "      <td>19.2</td>\n",
       "      <td>44.722500</td>\n",
       "      <td>19.79</td>\n",
       "      <td>44.790000</td>\n",
       "      <td>19.000000</td>\n",
       "      <td>45.992500</td>\n",
       "      <td>...</td>\n",
       "      <td>17.066667</td>\n",
       "      <td>45.56</td>\n",
       "      <td>6.483333</td>\n",
       "      <td>733.6</td>\n",
       "      <td>92.0</td>\n",
       "      <td>6.666667</td>\n",
       "      <td>59.166667</td>\n",
       "      <td>5.2</td>\n",
       "      <td>18.606195</td>\n",
       "      <td>18.606195</td>\n",
       "    </tr>\n",
       "    <tr>\n",
       "      <th>2</th>\n",
       "      <td>50</td>\n",
       "      <td>30</td>\n",
       "      <td>19.89</td>\n",
       "      <td>46.300000</td>\n",
       "      <td>19.2</td>\n",
       "      <td>44.626667</td>\n",
       "      <td>19.79</td>\n",
       "      <td>44.933333</td>\n",
       "      <td>18.926667</td>\n",
       "      <td>45.890000</td>\n",
       "      <td>...</td>\n",
       "      <td>17.000000</td>\n",
       "      <td>45.50</td>\n",
       "      <td>6.366667</td>\n",
       "      <td>733.7</td>\n",
       "      <td>92.0</td>\n",
       "      <td>6.333333</td>\n",
       "      <td>55.333333</td>\n",
       "      <td>5.1</td>\n",
       "      <td>28.642668</td>\n",
       "      <td>28.642668</td>\n",
       "    </tr>\n",
       "    <tr>\n",
       "      <th>3</th>\n",
       "      <td>50</td>\n",
       "      <td>40</td>\n",
       "      <td>19.89</td>\n",
       "      <td>46.066667</td>\n",
       "      <td>19.2</td>\n",
       "      <td>44.590000</td>\n",
       "      <td>19.79</td>\n",
       "      <td>45.000000</td>\n",
       "      <td>18.890000</td>\n",
       "      <td>45.723333</td>\n",
       "      <td>...</td>\n",
       "      <td>17.000000</td>\n",
       "      <td>45.40</td>\n",
       "      <td>6.250000</td>\n",
       "      <td>733.8</td>\n",
       "      <td>92.0</td>\n",
       "      <td>6.000000</td>\n",
       "      <td>51.500000</td>\n",
       "      <td>5.0</td>\n",
       "      <td>45.410389</td>\n",
       "      <td>45.410389</td>\n",
       "    </tr>\n",
       "    <tr>\n",
       "      <th>4</th>\n",
       "      <td>60</td>\n",
       "      <td>40</td>\n",
       "      <td>19.89</td>\n",
       "      <td>46.333333</td>\n",
       "      <td>19.2</td>\n",
       "      <td>44.530000</td>\n",
       "      <td>19.79</td>\n",
       "      <td>45.000000</td>\n",
       "      <td>18.890000</td>\n",
       "      <td>45.530000</td>\n",
       "      <td>...</td>\n",
       "      <td>17.000000</td>\n",
       "      <td>45.40</td>\n",
       "      <td>6.133333</td>\n",
       "      <td>733.9</td>\n",
       "      <td>92.0</td>\n",
       "      <td>5.666667</td>\n",
       "      <td>47.666667</td>\n",
       "      <td>4.9</td>\n",
       "      <td>10.084097</td>\n",
       "      <td>10.084097</td>\n",
       "    </tr>\n",
       "  </tbody>\n",
       "</table>\n",
       "<p>5 rows × 28 columns</p>\n",
       "</div>"
      ],
      "text/plain": [
       "   Appliances  lights  kitchenTemp(℃)  kitchen_Humidity(%)  livingroomTemp(℃)  \\\n",
       "0          60      30           19.89            47.596667               19.2   \n",
       "1          60      30           19.89            46.693333               19.2   \n",
       "2          50      30           19.89            46.300000               19.2   \n",
       "3          50      40           19.89            46.066667               19.2   \n",
       "4          60      40           19.89            46.333333               19.2   \n",
       "\n",
       "   livingroom_Humidity(%)  laundryTemp(℃)  laundry_Humidity(%)  officeTemp(℃)  \\\n",
       "0               44.790000           19.79            44.730000      19.000000   \n",
       "1               44.722500           19.79            44.790000      19.000000   \n",
       "2               44.626667           19.79            44.933333      18.926667   \n",
       "3               44.590000           19.79            45.000000      18.890000   \n",
       "4               44.530000           19.79            45.000000      18.890000   \n",
       "\n",
       "   office_Humidity(%)  ...  parentRoomTemp(℃)  parentRoom_Humidity(%)  \\\n",
       "0           45.566667  ...          17.033333                   45.53   \n",
       "1           45.992500  ...          17.066667                   45.56   \n",
       "2           45.890000  ...          17.000000                   45.50   \n",
       "3           45.723333  ...          17.000000                   45.40   \n",
       "4           45.530000  ...          17.000000                   45.40   \n",
       "\n",
       "   outTemp(℃)  Press_mm_hg  outHum(%)  windspeed(m/s)  visibility(km)  \\\n",
       "0    6.600000        733.5       92.0        7.000000       63.000000   \n",
       "1    6.483333        733.6       92.0        6.666667       59.166667   \n",
       "2    6.366667        733.7       92.0        6.333333       55.333333   \n",
       "3    6.250000        733.8       92.0        6.000000       51.500000   \n",
       "4    6.133333        733.9       92.0        5.666667       47.666667   \n",
       "\n",
       "   tdewpoint(Â℃)  randomVariable(non-dimensional)  \\\n",
       "0            5.3                        13.275433   \n",
       "1            5.2                        18.606195   \n",
       "2            5.1                        28.642668   \n",
       "3            5.0                        45.410389   \n",
       "4            4.9                        10.084097   \n",
       "\n",
       "   randomVariable(non-dimensional)  \n",
       "0                        13.275433  \n",
       "1                        18.606195  \n",
       "2                        28.642668  \n",
       "3                        45.410389  \n",
       "4                        10.084097  \n",
       "\n",
       "[5 rows x 28 columns]"
      ]
     },
     "execution_count": 14,
     "metadata": {},
     "output_type": "execute_result"
    }
   ],
   "source": [
    "column_names = {'T1':'kitchenTemp(℃)', 'RH_1':'kitchen_Humidity(%)', 'T2':'livingroomTemp(℃)',\n",
    "               'RH_2':'livingroom_Humidity(%)', 'T3':'laundryTemp(℃)','RH_3':'laundry_Humidity(%)',\n",
    "                'T4':'officeTemp(℃)','RH_4':'office_Humidity(%)', 'T5':'bathroomTemp(℃)', \n",
    "                'RH_5': 'bathroom_Humidity(%)', 'T6':'outnorthTemp(℃)','RH_6':'outnorth_Humidity(%)',\n",
    "               'T7': 'ironRoom(℃)','RH_7': 'ironRoom_Humidity(%)','T8':'teenRoom_Temp(℃)',\n",
    "               'RH_8':'teenRoom_Humidity(%)', 'T9':'parentRoomTemp(℃)', 'RH_9':'parentRoom_Humidity(%)',\n",
    "                'T_out':'outTemp(℃)', 'RH_out': 'outHum(%)', 'Windspeed':'windspeed(m/s)', 'Visibility':\n",
    "                'visibility(km)', 'Tdewpoint':'tdewpoint(Â℃)', 'rv1':'randomVariable(non-dimensional)',\n",
    "                'rv2': 'randomVariable(non-dimensional)'}\n",
    "df = df.rename(columns=column_names)\n",
    "df.head()"
   ]
  },
  {
   "cell_type": "code",
   "execution_count": 15,
   "id": "1a10c364",
   "metadata": {},
   "outputs": [],
   "source": [
    "from sklearn.preprocessing import MinMaxScaler\n",
    "scaler = MinMaxScaler()\n",
    "normalised_df = pd.DataFrame(scaler.fit_transform(df), columns=df.columns)\n",
    "features_df = normalised_df.drop(columns=['livingroomTemp(℃)','outTemp(℃)'])\n",
    "room_target = normalised_df['livingroomTemp(℃)']\n"
   ]
  },
  {
   "cell_type": "code",
   "execution_count": 18,
   "id": "1787e338",
   "metadata": {},
   "outputs": [
    {
     "data": {
      "text/plain": [
       "<AxesSubplot:xlabel='livingroomTemp(℃)', ylabel='outTemp(℃)'>"
      ]
     },
     "execution_count": 18,
     "metadata": {},
     "output_type": "execute_result"
    },
    {
     "data": {
      "image/png": "[encoded data removed]",
      "text/plain": [
       "<Figure size 432x288 with 1 Axes>"
      ]
     },
     "metadata": {
      "needs_background": "light"
     },
     "output_type": "display_data"
    }
   ],
   "source": [
    "simple_linear_reg_df = df[['livingroomTemp(℃)','outTemp(℃)']].sample(15, random_state = 2)\n",
    "sns.regplot(x='livingroomTemp(℃)', y='outTemp(℃)',data=simple_linear_reg_df)"
   ]
  },
  {
   "cell_type": "code",
   "execution_count": 27,
   "id": "ccbe8bb9",
   "metadata": {},
   "outputs": [],
   "source": [
    "from sklearn.linear_model  import LinearRegression \n",
    "from sklearn.model_selection import train_test_split\n",
    "x_train, x_test, y_train, y_test = train_test_split(features_df,room_target,test_size=0.3,random_state=1)\n",
    "linear_model = LinearRegression()\n",
    "linear_model.fit(x_train, y_train)\n",
    "predicted_values = linear_model.predict(x_test)\n"
   ]
  },
  {
   "cell_type": "code",
   "execution_count": 29,
   "id": "21810f5c",
   "metadata": {},
   "outputs": [
    {
     "data": {
      "text/plain": [
       "0.96"
      ]
     },
     "execution_count": 29,
     "metadata": {},
     "output_type": "execute_result"
    }
   ],
   "source": [
    "from sklearn.metrics import r2_score\n",
    "r2_score = r2_score(y_test, predicted_values)\n",
    "round(r2_score, 2)"
   ]
  },
  {
   "cell_type": "code",
   "execution_count": 30,
   "id": "a79250e9",
   "metadata": {},
   "outputs": [
    {
     "data": {
      "text/plain": [
       "Lasso(alpha=0.01)"
      ]
     },
     "execution_count": 30,
     "metadata": {},
     "output_type": "execute_result"
    }
   ],
   "source": [
    "from sklearn.linear_model import Lasso\n",
    "lasso_reg = Lasso(alpha=0.01)\n",
    "lasso_reg.fit(x_train, y_train)"
   ]
  },
  {
   "cell_type": "code",
   "execution_count": 32,
   "id": "39a305a5",
   "metadata": {},
   "outputs": [
    {
     "data": {
      "text/plain": [
       "0.021"
      ]
     },
     "execution_count": 32,
     "metadata": {},
     "output_type": "execute_result"
    }
   ],
   "source": [
    "from sklearn.metrics import mean_absolute_error \n",
    "mae= mean_absolute_error(y_test, predicted_values)\n",
    "round(mae, 3)"
   ]
  },
  {
   "cell_type": "code",
   "execution_count": 33,
   "id": "b55892cd",
   "metadata": {},
   "outputs": [
    {
     "data": {
      "text/plain": [
       "0.03"
      ]
     },
     "execution_count": 33,
     "metadata": {},
     "output_type": "execute_result"
    }
   ],
   "source": [
    "from sklearn.metrics import mean_squared_error\n",
    "rmse = np.sqrt(mean_squared_error(y_test, predicted_values))\n",
    "round(rmse, 3)"
   ]
  },
  {
   "cell_type": "code",
   "execution_count": 35,
   "id": "c9e7ae19",
   "metadata": {},
   "outputs": [
    {
     "data": {
      "text/plain": [
       "Ridge(alpha=0.0001)"
      ]
     },
     "execution_count": 35,
     "metadata": {},
     "output_type": "execute_result"
    }
   ],
   "source": [
    "from sklearn.linear_model import Ridge\n",
    "ridge_reg = Ridge(alpha=0.0001)\n",
    "ridge_reg.fit(x_train, y_train)"
   ]
  },
  {
   "cell_type": "code",
   "execution_count": null,
   "id": "ac2a9b1f",
   "metadata": {},
   "outputs": [],
   "source": []
  }
 ],
 "metadata": {
  "kernelspec": {
   "display_name": "Python 3 (ipykernel)",
   "language": "python",
   "name": "python3"
  },
  "language_info": {
   "codemirror_mode": {
    "name": "ipython",
    "version": 3
   },
   "file_extension": ".py",
   "mimetype": "text/x-python",
   "name": "python",
   "nbconvert_exporter": "python",
   "pygments_lexer": "ipython3",
   "version": "3.9.12"
  }
 },
 "nbformat": 4,
 "nbformat_minor": 5
}
